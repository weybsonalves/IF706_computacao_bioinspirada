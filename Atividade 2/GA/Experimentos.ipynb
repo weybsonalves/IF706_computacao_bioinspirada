{
 "cells": [
  {
   "cell_type": "code",
   "execution_count": 7,
   "metadata": {},
   "outputs": [],
   "source": [
    "import pandas as pd\n",
    "import numpy as np\n",
    "from GeneticAlgorithm import *"
   ]
  },
  {
   "cell_type": "code",
   "execution_count": 8,
   "metadata": {},
   "outputs": [],
   "source": [
    "ga = GeneticAlgorithm(n_filhos=100, max_iteracoes=15000, funcao='ackley')"
   ]
  },
  {
   "cell_type": "code",
   "execution_count": 9,
   "metadata": {},
   "outputs": [
    {
     "name": "stdout",
     "output_type": "stream",
     "text": [
      "Não foi possível encontrar uma solução ótima em 15000 iterações.\n",
      "Melhor solução: [ 1.54209108e-03  2.72775468e-03  1.03216190e-03 -8.66605492e-04\n",
      "  7.42736683e-04  1.41727379e-03 -3.10284446e-04 -1.29742254e-03\n",
      " -8.17428039e-04  2.48245951e-03 -6.79694930e-05 -1.62246246e-03\n",
      "  8.81008111e-05  7.61488263e-04  8.41188069e-04  1.82123333e-03\n",
      " -2.33577826e-03  2.87144191e-04 -7.95477651e-05  4.48646987e-04\n",
      "  2.06326506e-03  1.05416444e-03 -1.53487984e-03 -7.38515168e-04\n",
      " -1.01121324e-03  5.19437235e-04 -8.62375646e-04  1.25458141e-03\n",
      "  2.84294737e-04  1.66367435e-04]\n",
      "Fitness da melhor solução: 0.0010071765912269548\n"
     ]
    }
   ],
   "source": [
    "ga.fit()"
   ]
  },
  {
   "cell_type": "code",
   "execution_count": null,
   "metadata": {},
   "outputs": [],
   "source": [
    "ga['']"
   ]
  }
 ],
 "metadata": {
  "kernelspec": {
   "display_name": "Python 3",
   "language": "python",
   "name": "python3"
  },
  "language_info": {
   "codemirror_mode": {
    "name": "ipython",
    "version": 3
   },
   "file_extension": ".py",
   "mimetype": "text/x-python",
   "name": "python",
   "nbconvert_exporter": "python",
   "pygments_lexer": "ipython3",
   "version": "3.8.10"
  },
  "orig_nbformat": 4
 },
 "nbformat": 4,
 "nbformat_minor": 2
}
